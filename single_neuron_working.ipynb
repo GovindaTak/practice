{
 "cells": [
  {
   "cell_type": "code",
   "execution_count": 2,
   "id": "9f5f399e-8c61-45d9-b143-4fa43f336e4e",
   "metadata": {},
   "outputs": [],
   "source": [
    "import torch\n",
    "import torch.nn as nn"
   ]
  },
  {
   "cell_type": "code",
   "execution_count": 6,
   "id": "25bcd1a1-6ca7-43aa-9e96-baa75d79095b",
   "metadata": {},
   "outputs": [],
   "source": [
    "inputs=torch.tensor([3.0,2.0,-1.0])"
   ]
  },
  {
   "cell_type": "code",
   "execution_count": 10,
   "id": "940bfea8-9ee0-489c-97af-18893d5260e8",
   "metadata": {},
   "outputs": [],
   "source": [
    "neuron=nn.Linear(in_features=3,out_features=1) #creating a neuron\n",
    "output=neuron(inputs)"
   ]
  },
  {
   "cell_type": "code",
   "execution_count": 12,
   "id": "16ab091a-6253-4769-887f-4147f94ca6ab",
   "metadata": {},
   "outputs": [
    {
     "name": "stdout",
     "output_type": "stream",
     "text": [
      "tensor([0.8163], grad_fn=<AddBackward0>)\n"
     ]
    }
   ],
   "source": [
    "print(output)"
   ]
  },
  {
   "cell_type": "code",
   "execution_count": 14,
   "id": "e94a0b20-bc18-4010-acc1-16e62e506579",
   "metadata": {},
   "outputs": [
    {
     "data": {
      "text/plain": [
       "Parameter containing:\n",
       "tensor([[ 0.4158, -0.2041, -0.0247]], requires_grad=True)"
      ]
     },
     "execution_count": 14,
     "metadata": {},
     "output_type": "execute_result"
    }
   ],
   "source": [
    "neuron.weight\n"
   ]
  },
  {
   "cell_type": "code",
   "execution_count": 16,
   "id": "c50531ec-0349-4529-9f69-ce18f53475be",
   "metadata": {},
   "outputs": [
    {
     "data": {
      "text/plain": [
       "Parameter containing:\n",
       "tensor([-0.0475], requires_grad=True)"
      ]
     },
     "execution_count": 16,
     "metadata": {},
     "output_type": "execute_result"
    }
   ],
   "source": [
    "neuron.bias"
   ]
  },
  {
   "cell_type": "code",
   "execution_count": 18,
   "id": "96aab278-af0d-487a-8f1e-e9e53b89de79",
   "metadata": {},
   "outputs": [
    {
     "data": {
      "text/plain": [
       "tensor([0.8163], grad_fn=<AddBackward0>)"
      ]
     },
     "execution_count": 18,
     "metadata": {},
     "output_type": "execute_result"
    }
   ],
   "source": [
    "neuron.weight@inputs.T + neuron.bias  #gives same anwser as in above cell "
   ]
  },
  {
   "cell_type": "code",
   "execution_count": null,
   "id": "e5428459-881f-4c73-814a-357f6bab6b23",
   "metadata": {},
   "outputs": [],
   "source": []
  }
 ],
 "metadata": {
  "kernelspec": {
   "display_name": "Python 3.10",
   "language": "python",
   "name": "python3.10"
  },
  "language_info": {
   "codemirror_mode": {
    "name": "ipython",
    "version": 3
   },
   "file_extension": ".py",
   "mimetype": "text/x-python",
   "name": "python",
   "nbconvert_exporter": "python",
   "pygments_lexer": "ipython3",
   "version": "3.10.0"
  }
 },
 "nbformat": 4,
 "nbformat_minor": 5
}
